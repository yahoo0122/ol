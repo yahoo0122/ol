{
 "cells": [
  {
   "cell_type": "code",
   "execution_count": 4,
   "metadata": {},
   "outputs": [
    {
     "ename": "KeyboardInterrupt",
     "evalue": "",
     "output_type": "error",
     "traceback": [
      "\u001b[0;31m---------------------------------------------------------------------------\u001b[0m",
      "\u001b[0;31mKeyboardInterrupt\u001b[0m                         Traceback (most recent call last)",
      "Cell \u001b[0;32mIn[4], line 3\u001b[0m\n\u001b[1;32m      1\u001b[0m d \u001b[39m=\u001b[39m {\u001b[39m10\u001b[39m:\u001b[39m'\u001b[39m\u001b[39mA\u001b[39m\u001b[39m'\u001b[39m, \u001b[39m11\u001b[39m:\u001b[39m'\u001b[39m\u001b[39mB\u001b[39m\u001b[39m'\u001b[39m, \u001b[39m12\u001b[39m:\u001b[39m'\u001b[39m\u001b[39mC\u001b[39m\u001b[39m'\u001b[39m, \u001b[39m13\u001b[39m:\u001b[39m'\u001b[39m\u001b[39mD\u001b[39m\u001b[39m'\u001b[39m, \u001b[39m14\u001b[39m:\u001b[39m'\u001b[39m\u001b[39mE\u001b[39m\u001b[39m'\u001b[39m, \u001b[39m15\u001b[39m:\u001b[39m'\u001b[39m\u001b[39mF\u001b[39m\u001b[39m'\u001b[39m, \u001b[39m16\u001b[39m:\u001b[39m'\u001b[39m\u001b[39mG\u001b[39m\u001b[39m'\u001b[39m, \u001b[39m17\u001b[39m:\u001b[39m'\u001b[39m\u001b[39mH\u001b[39m\u001b[39m'\u001b[39m, \u001b[39m18\u001b[39m:\u001b[39m'\u001b[39m\u001b[39mI\u001b[39m\u001b[39m'\u001b[39m, \u001b[39m19\u001b[39m:\u001b[39m'\u001b[39m\u001b[39mJ\u001b[39m\u001b[39m'\u001b[39m, \u001b[39m20\u001b[39m:\u001b[39m'\u001b[39m\u001b[39mK\u001b[39m\u001b[39m'\u001b[39m, \u001b[39m21\u001b[39m:\u001b[39m'\u001b[39m\u001b[39mL\u001b[39m\u001b[39m'\u001b[39m, \u001b[39m22\u001b[39m:\u001b[39m'\u001b[39m\u001b[39mM\u001b[39m\u001b[39m'\u001b[39m, \u001b[39m23\u001b[39m:\u001b[39m'\u001b[39m\u001b[39mN\u001b[39m\u001b[39m'\u001b[39m, \u001b[39m24\u001b[39m:\u001b[39m'\u001b[39m\u001b[39mO\u001b[39m\u001b[39m'\u001b[39m, \u001b[39m25\u001b[39m:\u001b[39m'\u001b[39m\u001b[39mP\u001b[39m\u001b[39m'\u001b[39m, \n\u001b[1;32m      2\u001b[0m      \u001b[39m26\u001b[39m:\u001b[39m'\u001b[39m\u001b[39mQ\u001b[39m\u001b[39m'\u001b[39m, \u001b[39m27\u001b[39m:\u001b[39m'\u001b[39m\u001b[39mR\u001b[39m\u001b[39m'\u001b[39m, \u001b[39m28\u001b[39m:\u001b[39m'\u001b[39m\u001b[39mS\u001b[39m\u001b[39m'\u001b[39m, \u001b[39m29\u001b[39m:\u001b[39m'\u001b[39m\u001b[39mT\u001b[39m\u001b[39m'\u001b[39m, \u001b[39m30\u001b[39m:\u001b[39m'\u001b[39m\u001b[39mU\u001b[39m\u001b[39m'\u001b[39m, \u001b[39m31\u001b[39m:\u001b[39m'\u001b[39m\u001b[39mV\u001b[39m\u001b[39m'\u001b[39m, \u001b[39m32\u001b[39m:\u001b[39m'\u001b[39m\u001b[39mW\u001b[39m\u001b[39m'\u001b[39m, \u001b[39m33\u001b[39m:\u001b[39m'\u001b[39m\u001b[39mX\u001b[39m\u001b[39m'\u001b[39m, \u001b[39m34\u001b[39m:\u001b[39m'\u001b[39m\u001b[39mY\u001b[39m\u001b[39m'\u001b[39m, \u001b[39m35\u001b[39m:\u001b[39m'\u001b[39m\u001b[39mZ\u001b[39m\u001b[39m'\u001b[39m}\n\u001b[0;32m----> 3\u001b[0m a, b \u001b[39m=\u001b[39m \u001b[39mmap\u001b[39m(\u001b[39mint\u001b[39m, \u001b[39minput\u001b[39;49m()\u001b[39m.\u001b[39msplit())\n\u001b[1;32m      4\u001b[0m r \u001b[39m=\u001b[39m \u001b[39m1\u001b[39m\n\u001b[1;32m      5\u001b[0m g \u001b[39m=\u001b[39m a\n",
      "\u001b[0;31mKeyboardInterrupt\u001b[0m: "
     ]
    }
   ],
   "source": [
    "import sys\n",
    "input = sys.stdin.readline\n",
    "d = {10:'A', 11:'B', 12:'C', 13:'D', 14:'E', 15:'F', 16:'G', 17:'H', 18:'I', 19:'J', 20:'K', 21:'L', 22:'M', 23:'N', 24:'O', 25:'P', \n",
    "     26:'Q', 27:'R', 28:'S', 29:'T', 30:'U', 31:'V', 32:'W', 33:'X', 34:'Y', 35:'Z'}\n",
    "a, b = map(int, input().split())\n",
    "r = 1\n",
    "g = a\n",
    "l = []\n",
    "y = 0\n",
    "l.append(d[a%b])\n",
    "while True:\n",
    "    g = g / b\n",
    "    if g < b :\n",
    "        l.append(d[int(g)])\n",
    "        break\n",
    "    l.append(d[int(g%b)])\n",
    "print(*l, sep='')"
   ]
  }
 ],
 "metadata": {
  "kernelspec": {
   "display_name": "Python 3",
   "language": "python",
   "name": "python3"
  },
  "language_info": {
   "codemirror_mode": {
    "name": "ipython",
    "version": 3
   },
   "file_extension": ".py",
   "mimetype": "text/x-python",
   "name": "python",
   "nbconvert_exporter": "python",
   "pygments_lexer": "ipython3",
   "version": "3.10.4"
  },
  "orig_nbformat": 4
 },
 "nbformat": 4,
 "nbformat_minor": 2
}
