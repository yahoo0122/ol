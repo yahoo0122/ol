{
 "cells": [
  {
   "cell_type": "code",
   "execution_count": null,
   "metadata": {},
   "outputs": [],
   "source": [
    "while True:\n",
    "    a, b = map(int, input().split())\n",
    "    if a==b==0:\n",
    "        break\n",
    "    print(a+b)"
   ]
  },
  {
   "cell_type": "code",
   "execution_count": 4,
   "metadata": {},
   "outputs": [
    {
     "ename": "KeyError",
     "evalue": "-1",
     "output_type": "error",
     "traceback": [
      "\u001b[0;31m---------------------------------------------------------------------------\u001b[0m",
      "\u001b[0;31mKeyError\u001b[0m                                  Traceback (most recent call last)",
      "Cell \u001b[0;32mIn[4], line 12\u001b[0m\n\u001b[1;32m      9\u001b[0m         d[i] \u001b[39m=\u001b[39m d[\u001b[39m-\u001b[39m\u001b[39m1\u001b[39m]\u001b[39m+\u001b[39md[i\u001b[39m-\u001b[39m\u001b[39m2\u001b[39m]\n\u001b[1;32m     10\u001b[0m     \u001b[39mreturn\u001b[39;00m d[n], count\n\u001b[0;32m---> 12\u001b[0m \u001b[39mprint\u001b[39m(fib(\u001b[39mint\u001b[39;49m(\u001b[39minput\u001b[39;49m())))\n",
      "Cell \u001b[0;32mIn[4], line 9\u001b[0m, in \u001b[0;36mfib\u001b[0;34m(n)\u001b[0m\n\u001b[1;32m      7\u001b[0m \u001b[39mfor\u001b[39;00m i \u001b[39min\u001b[39;00m \u001b[39mrange\u001b[39m(\u001b[39m3\u001b[39m, n\u001b[39m+\u001b[39m\u001b[39m1\u001b[39m):\n\u001b[1;32m      8\u001b[0m     count \u001b[39m=\u001b[39m count\u001b[39m+\u001b[39m\u001b[39m1\u001b[39m\n\u001b[0;32m----> 9\u001b[0m     d[i] \u001b[39m=\u001b[39m d[\u001b[39m-\u001b[39;49m\u001b[39m1\u001b[39;49m]\u001b[39m+\u001b[39md[i\u001b[39m-\u001b[39m\u001b[39m2\u001b[39m]\n\u001b[1;32m     10\u001b[0m \u001b[39mreturn\u001b[39;00m d[n], count\n",
      "\u001b[0;31mKeyError\u001b[0m: -1"
     ]
    }
   ],
   "source": [
    "\n",
    "\n",
    "\n",
    "def fib(n):\n",
    "    d = {\n",
    "        1: 1,\n",
    "        2: 1\n",
    "    }\n",
    "    count = 0\n",
    "    for i in range(3, n+1):\n",
    "        count = count+1\n",
    "        d[i] = d[-1]+d[i-2]\n",
    "    return d[n], count\n",
    "\n",
    "print(fib(int(input())))\n"
   ]
  },
  {
   "cell_type": "code",
   "execution_count": 6,
   "metadata": {},
   "outputs": [
    {
     "ename": "KeyboardInterrupt",
     "evalue": "",
     "output_type": "error",
     "traceback": [
      "\u001b[0;31m---------------------------------------------------------------------------\u001b[0m",
      "\u001b[0;31mKeyboardInterrupt\u001b[0m                         Traceback (most recent call last)",
      "Cell \u001b[0;32mIn[6], line 18\u001b[0m\n\u001b[1;32m     16\u001b[0m         \u001b[39mreturn\u001b[39;00m w(a, b, c\u001b[39m-\u001b[39m\u001b[39m1\u001b[39m) \u001b[39m+\u001b[39m w(a, b\u001b[39m-\u001b[39m\u001b[39m1\u001b[39m, c\u001b[39m-\u001b[39m\u001b[39m1\u001b[39m) \u001b[39m-\u001b[39m w(a, b\u001b[39m-\u001b[39m\u001b[39m1\u001b[39m, c) \n\u001b[1;32m     17\u001b[0m     \u001b[39mreturn\u001b[39;00m w(a\u001b[39m-\u001b[39m\u001b[39m1\u001b[39m, b, c) \u001b[39m+\u001b[39m w(a\u001b[39m-\u001b[39m\u001b[39m1\u001b[39m, b\u001b[39m-\u001b[39m\u001b[39m1\u001b[39m, c) \u001b[39m+\u001b[39m w(a\u001b[39m-\u001b[39m\u001b[39m1\u001b[39m, b, c\u001b[39m-\u001b[39m\u001b[39m1\u001b[39m) \u001b[39m-\u001b[39m w(a\u001b[39m-\u001b[39m\u001b[39m1\u001b[39m, b\u001b[39m-\u001b[39m\u001b[39m1\u001b[39m, c\u001b[39m-\u001b[39m\u001b[39m1\u001b[39m)\n\u001b[0;32m---> 18\u001b[0m w(\u001b[39m15\u001b[39;49m,\u001b[39m15\u001b[39;49m,\u001b[39m15\u001b[39;49m)   \n",
      "Cell \u001b[0;32mIn[6], line 17\u001b[0m, in \u001b[0;36mw\u001b[0;34m(a, b, c)\u001b[0m\n\u001b[1;32m     15\u001b[0m \u001b[39mif\u001b[39;00m a \u001b[39m<\u001b[39m b \u001b[39mand\u001b[39;00m b \u001b[39m<\u001b[39m c:\n\u001b[1;32m     16\u001b[0m     \u001b[39mreturn\u001b[39;00m w(a, b, c\u001b[39m-\u001b[39m\u001b[39m1\u001b[39m) \u001b[39m+\u001b[39m w(a, b\u001b[39m-\u001b[39m\u001b[39m1\u001b[39m, c\u001b[39m-\u001b[39m\u001b[39m1\u001b[39m) \u001b[39m-\u001b[39m w(a, b\u001b[39m-\u001b[39m\u001b[39m1\u001b[39m, c) \n\u001b[0;32m---> 17\u001b[0m \u001b[39mreturn\u001b[39;00m w(a\u001b[39m-\u001b[39;49m\u001b[39m1\u001b[39;49m, b, c) \u001b[39m+\u001b[39m w(a\u001b[39m-\u001b[39m\u001b[39m1\u001b[39m, b\u001b[39m-\u001b[39m\u001b[39m1\u001b[39m, c) \u001b[39m+\u001b[39m w(a\u001b[39m-\u001b[39m\u001b[39m1\u001b[39m, b, c\u001b[39m-\u001b[39m\u001b[39m1\u001b[39m) \u001b[39m-\u001b[39m w(a\u001b[39m-\u001b[39m\u001b[39m1\u001b[39m, b\u001b[39m-\u001b[39m\u001b[39m1\u001b[39m, c\u001b[39m-\u001b[39m\u001b[39m1\u001b[39m)\n",
      "Cell \u001b[0;32mIn[6], line 17\u001b[0m, in \u001b[0;36mw\u001b[0;34m(a, b, c)\u001b[0m\n\u001b[1;32m     15\u001b[0m \u001b[39mif\u001b[39;00m a \u001b[39m<\u001b[39m b \u001b[39mand\u001b[39;00m b \u001b[39m<\u001b[39m c:\n\u001b[1;32m     16\u001b[0m     \u001b[39mreturn\u001b[39;00m w(a, b, c\u001b[39m-\u001b[39m\u001b[39m1\u001b[39m) \u001b[39m+\u001b[39m w(a, b\u001b[39m-\u001b[39m\u001b[39m1\u001b[39m, c\u001b[39m-\u001b[39m\u001b[39m1\u001b[39m) \u001b[39m-\u001b[39m w(a, b\u001b[39m-\u001b[39m\u001b[39m1\u001b[39m, c) \n\u001b[0;32m---> 17\u001b[0m \u001b[39mreturn\u001b[39;00m w(a\u001b[39m-\u001b[39;49m\u001b[39m1\u001b[39;49m, b, c) \u001b[39m+\u001b[39m w(a\u001b[39m-\u001b[39m\u001b[39m1\u001b[39m, b\u001b[39m-\u001b[39m\u001b[39m1\u001b[39m, c) \u001b[39m+\u001b[39m w(a\u001b[39m-\u001b[39m\u001b[39m1\u001b[39m, b, c\u001b[39m-\u001b[39m\u001b[39m1\u001b[39m) \u001b[39m-\u001b[39m w(a\u001b[39m-\u001b[39m\u001b[39m1\u001b[39m, b\u001b[39m-\u001b[39m\u001b[39m1\u001b[39m, c\u001b[39m-\u001b[39m\u001b[39m1\u001b[39m)\n",
      "    \u001b[0;31m[... skipping similar frames: w at line 17 (12 times)]\u001b[0m\n",
      "Cell \u001b[0;32mIn[6], line 16\u001b[0m, in \u001b[0;36mw\u001b[0;34m(a, b, c)\u001b[0m\n\u001b[1;32m     14\u001b[0m     \u001b[39mreturn\u001b[39;00m w(\u001b[39m20\u001b[39m, \u001b[39m20\u001b[39m, \u001b[39m20\u001b[39m)\n\u001b[1;32m     15\u001b[0m \u001b[39mif\u001b[39;00m a \u001b[39m<\u001b[39m b \u001b[39mand\u001b[39;00m b \u001b[39m<\u001b[39m c:\n\u001b[0;32m---> 16\u001b[0m     \u001b[39mreturn\u001b[39;00m w(a, b, c\u001b[39m-\u001b[39m\u001b[39m1\u001b[39m) \u001b[39m+\u001b[39m w(a, b\u001b[39m-\u001b[39m\u001b[39m1\u001b[39m, c\u001b[39m-\u001b[39m\u001b[39m1\u001b[39m) \u001b[39m-\u001b[39m w(a, b\u001b[39m-\u001b[39;49m\u001b[39m1\u001b[39;49m, c) \n\u001b[1;32m     17\u001b[0m \u001b[39mreturn\u001b[39;00m w(a\u001b[39m-\u001b[39m\u001b[39m1\u001b[39m, b, c) \u001b[39m+\u001b[39m w(a\u001b[39m-\u001b[39m\u001b[39m1\u001b[39m, b\u001b[39m-\u001b[39m\u001b[39m1\u001b[39m, c) \u001b[39m+\u001b[39m w(a\u001b[39m-\u001b[39m\u001b[39m1\u001b[39m, b, c\u001b[39m-\u001b[39m\u001b[39m1\u001b[39m) \u001b[39m-\u001b[39m w(a\u001b[39m-\u001b[39m\u001b[39m1\u001b[39m, b\u001b[39m-\u001b[39m\u001b[39m1\u001b[39m, c\u001b[39m-\u001b[39m\u001b[39m1\u001b[39m)\n",
      "Cell \u001b[0;32mIn[6], line 16\u001b[0m, in \u001b[0;36mw\u001b[0;34m(a, b, c)\u001b[0m\n\u001b[1;32m     14\u001b[0m     \u001b[39mreturn\u001b[39;00m w(\u001b[39m20\u001b[39m, \u001b[39m20\u001b[39m, \u001b[39m20\u001b[39m)\n\u001b[1;32m     15\u001b[0m \u001b[39mif\u001b[39;00m a \u001b[39m<\u001b[39m b \u001b[39mand\u001b[39;00m b \u001b[39m<\u001b[39m c:\n\u001b[0;32m---> 16\u001b[0m     \u001b[39mreturn\u001b[39;00m w(a, b, c\u001b[39m-\u001b[39m\u001b[39m1\u001b[39m) \u001b[39m+\u001b[39m w(a, b\u001b[39m-\u001b[39;49m\u001b[39m1\u001b[39;49m, c\u001b[39m-\u001b[39;49m\u001b[39m1\u001b[39;49m) \u001b[39m-\u001b[39m w(a, b\u001b[39m-\u001b[39m\u001b[39m1\u001b[39m, c) \n\u001b[1;32m     17\u001b[0m \u001b[39mreturn\u001b[39;00m w(a\u001b[39m-\u001b[39m\u001b[39m1\u001b[39m, b, c) \u001b[39m+\u001b[39m w(a\u001b[39m-\u001b[39m\u001b[39m1\u001b[39m, b\u001b[39m-\u001b[39m\u001b[39m1\u001b[39m, c) \u001b[39m+\u001b[39m w(a\u001b[39m-\u001b[39m\u001b[39m1\u001b[39m, b, c\u001b[39m-\u001b[39m\u001b[39m1\u001b[39m) \u001b[39m-\u001b[39m w(a\u001b[39m-\u001b[39m\u001b[39m1\u001b[39m, b\u001b[39m-\u001b[39m\u001b[39m1\u001b[39m, c\u001b[39m-\u001b[39m\u001b[39m1\u001b[39m)\n",
      "    \u001b[0;31m[... skipping similar frames: w at line 16 (19 times)]\u001b[0m\n",
      "Cell \u001b[0;32mIn[6], line 16\u001b[0m, in \u001b[0;36mw\u001b[0;34m(a, b, c)\u001b[0m\n\u001b[1;32m     14\u001b[0m     \u001b[39mreturn\u001b[39;00m w(\u001b[39m20\u001b[39m, \u001b[39m20\u001b[39m, \u001b[39m20\u001b[39m)\n\u001b[1;32m     15\u001b[0m \u001b[39mif\u001b[39;00m a \u001b[39m<\u001b[39m b \u001b[39mand\u001b[39;00m b \u001b[39m<\u001b[39m c:\n\u001b[0;32m---> 16\u001b[0m     \u001b[39mreturn\u001b[39;00m w(a, b, c\u001b[39m-\u001b[39;49m\u001b[39m1\u001b[39;49m) \u001b[39m+\u001b[39m w(a, b\u001b[39m-\u001b[39m\u001b[39m1\u001b[39m, c\u001b[39m-\u001b[39m\u001b[39m1\u001b[39m) \u001b[39m-\u001b[39m w(a, b\u001b[39m-\u001b[39m\u001b[39m1\u001b[39m, c) \n\u001b[1;32m     17\u001b[0m \u001b[39mreturn\u001b[39;00m w(a\u001b[39m-\u001b[39m\u001b[39m1\u001b[39m, b, c) \u001b[39m+\u001b[39m w(a\u001b[39m-\u001b[39m\u001b[39m1\u001b[39m, b\u001b[39m-\u001b[39m\u001b[39m1\u001b[39m, c) \u001b[39m+\u001b[39m w(a\u001b[39m-\u001b[39m\u001b[39m1\u001b[39m, b, c\u001b[39m-\u001b[39m\u001b[39m1\u001b[39m) \u001b[39m-\u001b[39m w(a\u001b[39m-\u001b[39m\u001b[39m1\u001b[39m, b\u001b[39m-\u001b[39m\u001b[39m1\u001b[39m, c\u001b[39m-\u001b[39m\u001b[39m1\u001b[39m)\n",
      "Cell \u001b[0;32mIn[6], line 17\u001b[0m, in \u001b[0;36mw\u001b[0;34m(a, b, c)\u001b[0m\n\u001b[1;32m     15\u001b[0m \u001b[39mif\u001b[39;00m a \u001b[39m<\u001b[39m b \u001b[39mand\u001b[39;00m b \u001b[39m<\u001b[39m c:\n\u001b[1;32m     16\u001b[0m     \u001b[39mreturn\u001b[39;00m w(a, b, c\u001b[39m-\u001b[39m\u001b[39m1\u001b[39m) \u001b[39m+\u001b[39m w(a, b\u001b[39m-\u001b[39m\u001b[39m1\u001b[39m, c\u001b[39m-\u001b[39m\u001b[39m1\u001b[39m) \u001b[39m-\u001b[39m w(a, b\u001b[39m-\u001b[39m\u001b[39m1\u001b[39m, c) \n\u001b[0;32m---> 17\u001b[0m \u001b[39mreturn\u001b[39;00m w(a\u001b[39m-\u001b[39m\u001b[39m1\u001b[39m, b, c) \u001b[39m+\u001b[39m w(a\u001b[39m-\u001b[39m\u001b[39m1\u001b[39m, b\u001b[39m-\u001b[39m\u001b[39m1\u001b[39m, c) \u001b[39m+\u001b[39m w(a\u001b[39m-\u001b[39;49m\u001b[39m1\u001b[39;49m, b, c\u001b[39m-\u001b[39;49m\u001b[39m1\u001b[39;49m) \u001b[39m-\u001b[39m w(a\u001b[39m-\u001b[39m\u001b[39m1\u001b[39m, b\u001b[39m-\u001b[39m\u001b[39m1\u001b[39m, c\u001b[39m-\u001b[39m\u001b[39m1\u001b[39m)\n",
      "\u001b[0;31mKeyboardInterrupt\u001b[0m: "
     ]
    }
   ],
   "source": [
    "def memo(f):\n",
    "    cache = {}\n",
    "\n",
    "    def helper(a, b, c):\n",
    "        if (a, b, c,) not in cache:\n",
    "            cache[(a, b, c)] = f(a, b, c)\n",
    "        return cache[(a, b, c)]\n",
    "    return helper\n",
    "\n",
    "\n",
    "def w(a, b, c):\n",
    "    if a <= 0 or b <= 0 or c <= 0:\n",
    "        return 1\n",
    "    if a > 20 or b > 20 or c > 20:\n",
    "        return w(20, 20, 20)\n",
    "    if a < b and b < c:\n",
    "        return w(a, b, c-1) + w(a, b-1, c-1) - w(a, b-1, c)\n",
    "    return w(a-1, b, c) + w(a-1, b-1, c) + w(a-1, b, c-1) - w(a-1, b-1, c-1)\n",
    "w(15, 15, 15)\n"
   ]
  },
  {
   "cell_type": "code",
   "execution_count": null,
   "metadata": {},
   "outputs": [],
   "source": [
    "l=[\n",
    "    (1,2)\n",
    "    (2,3)\n",
    "    (3,4)\n",
    "]"
   ]
  },
  {
   "cell_type": "code",
   "execution_count": 5,
   "metadata": {},
   "outputs": [
    {
     "data": {
      "text/plain": [
       "15"
      ]
     },
     "execution_count": 5,
     "metadata": {},
     "output_type": "execute_result"
    }
   ],
   "source": [
    "s=int(input())\n",
    "l=list(str(s))\n",
    "l.sort(reverse=True)\n",
    "print(*l, sep=\"\\n\")"
   ]
  },
  {
   "cell_type": "code",
   "execution_count": 22,
   "metadata": {},
   "outputs": [
    {
     "name": "stdout",
     "output_type": "stream",
     "text": [
      "30\n",
      "34.0\n"
     ]
    }
   ],
   "source": [
    "l=[]\n",
    "for i in range(1, 6):\n",
    "    l.append(int(input()))\n",
    "l.sort()\n",
    "a = l[2]\n",
    "b = (sum(l))//5\n",
    "print(a, b, sep=\"\\n\")\n"
   ]
  },
  {
   "cell_type": "code",
   "execution_count": 50,
   "metadata": {},
   "outputs": [
    {
     "name": "stdout",
     "output_type": "stream",
     "text": [
      "5 5 5 \n"
     ]
    },
    {
     "ename": "IndexError",
     "evalue": "list index out of range",
     "output_type": "error",
     "traceback": [
      "\u001b[0;31m---------------------------------------------------------------------------\u001b[0m",
      "\u001b[0;31mIndexError\u001b[0m                                Traceback (most recent call last)",
      "Cell \u001b[0;32mIn[50], line 11\u001b[0m\n\u001b[1;32m      9\u001b[0m \u001b[39mfor\u001b[39;00m i \u001b[39min\u001b[39;00m \u001b[39mrange\u001b[39m(n):\n\u001b[1;32m     10\u001b[0m     \u001b[39mfor\u001b[39;00m j \u001b[39min\u001b[39;00m \u001b[39mrange\u001b[39m(m):\n\u001b[0;32m---> 11\u001b[0m         \u001b[39mprint\u001b[39m(a[i][j]\u001b[39m+\u001b[39mb[i][j], end\u001b[39m=\u001b[39m\u001b[39m\"\u001b[39m\u001b[39m \u001b[39m\u001b[39m\"\u001b[39m)\n\u001b[1;32m     12\u001b[0m     \u001b[39mprint\u001b[39m()\n",
      "\u001b[0;31mIndexError\u001b[0m: list index out of range"
     ]
    }
   ],
   "source": [
    "n, m = list(map(int, input().split()))\n",
    "a, b = [], []\n",
    "for i in range(n):\n",
    "    a.append(list(map(int, input().split())))\n",
    "\n",
    "for i in range(n):\n",
    "    b.append(list(map(int, input().split())))\n",
    "\n",
    "for i in range(n):\n",
    "    for j in range(m):\n",
    "        print(a[i][j]+b[i][j], end=\" \")\n",
    "    print()"
   ]
  },
  {
   "cell_type": "code",
   "execution_count": 28,
   "metadata": {},
   "outputs": [
    {
     "ename": "ValueError",
     "evalue": "invalid literal for int() with base 10: ''",
     "output_type": "error",
     "traceback": [
      "\u001b[0;31m---------------------------------------------------------------------------\u001b[0m",
      "\u001b[0;31mValueError\u001b[0m                                Traceback (most recent call last)",
      "Cell \u001b[0;32mIn[28], line 4\u001b[0m\n\u001b[1;32m      1\u001b[0m l \u001b[39m=\u001b[39m [\u001b[39m0\u001b[39m]\u001b[39m*\u001b[39m\u001b[39m30\u001b[39m\n\u001b[1;32m      3\u001b[0m \u001b[39mfor\u001b[39;00m _ \u001b[39min\u001b[39;00m \u001b[39mrange\u001b[39m(\u001b[39m28\u001b[39m):\n\u001b[0;32m----> 4\u001b[0m     idx \u001b[39m=\u001b[39m \u001b[39mint\u001b[39;49m(\u001b[39minput\u001b[39;49m())\n\u001b[1;32m      5\u001b[0m     l[idx] \u001b[39m=\u001b[39m \u001b[39m0\u001b[39m\n\u001b[1;32m      7\u001b[0m \u001b[39mfor\u001b[39;00m i \u001b[39min\u001b[39;00m \u001b[39mrange\u001b[39m(\u001b[39m1\u001b[39m, \u001b[39m31\u001b[39m):\n",
      "\u001b[0;31mValueError\u001b[0m: invalid literal for int() with base 10: ''"
     ]
    }
   ],
   "source": [
    "l = [0]*30\n",
    "\n",
    "for _ in range(28):\n",
    "    idx = int(input())\n",
    "    l[idx] = 1\n",
    "\n",
    "for i in range(1, 31):\n",
    "    if l[i] == 0:\n",
    "        print(i)"
   ]
  },
  {
   "cell_type": "code",
   "execution_count": null,
   "metadata": {},
   "outputs": [],
   "source": [
    "a = int(input())\n",
    "b = int(input())\n",
    "c = int(input())\n",
    "\n",
    "print((a+b) % c)\n",
    "print(((a % c) + (b % c)) % c)\n",
    "print((a*b) % c)\n",
    "print(((a % c) * (b % c)) % c)\n"
   ]
  },
  {
   "cell_type": "code",
   "execution_count": 2,
   "metadata": {},
   "outputs": [
    {
     "ename": "ValueError",
     "evalue": "not enough values to unpack (expected 2, got 0)",
     "output_type": "error",
     "traceback": [
      "\u001b[0;31m---------------------------------------------------------------------------\u001b[0m",
      "\u001b[0;31mValueError\u001b[0m                                Traceback (most recent call last)",
      "Cell \u001b[0;32mIn[2], line 1\u001b[0m\n\u001b[0;32m----> 1\u001b[0m n, m \u001b[39m=\u001b[39m \u001b[39mmap\u001b[39m(\u001b[39mint\u001b[39m, \u001b[39minput\u001b[39m()\u001b[39m.\u001b[39msplit())\n\u001b[1;32m      2\u001b[0m l \u001b[39m=\u001b[39m [\u001b[39m0\u001b[39m]\u001b[39m*\u001b[39m(n\u001b[39m+\u001b[39m\u001b[39m1\u001b[39m)\n\u001b[1;32m      4\u001b[0m \u001b[39mfor\u001b[39;00m _ \u001b[39min\u001b[39;00m \u001b[39mrange\u001b[39m(m):\n",
      "\u001b[0;31mValueError\u001b[0m: not enough values to unpack (expected 2, got 0)"
     ]
    }
   ],
   "source": [
    "n, m = map(int, input().split())\n",
    "l = [0]*(n+1)\n",
    "\n",
    "for _ in range(m):\n",
    "    i, j, k = map(int, input().split())\n",
    "    for x in range(i, j+1):\n",
    "        l[x]=k\n",
    "\n",
    "print(*l[l:])"
   ]
  }
 ],
 "metadata": {
  "kernelspec": {
   "display_name": "Python 3",
   "language": "python",
   "name": "python3"
  },
  "language_info": {
   "codemirror_mode": {
    "name": "ipython",
    "version": 3
   },
   "file_extension": ".py",
   "mimetype": "text/x-python",
   "name": "python",
   "nbconvert_exporter": "python",
   "pygments_lexer": "ipython3",
   "version": "3.10.4"
  },
  "orig_nbformat": 4
 },
 "nbformat": 4,
 "nbformat_minor": 2
}
