{
 "cells": [
  {
   "cell_type": "code",
   "execution_count": null,
   "metadata": {},
   "outputs": [],
   "source": [
    "import sys\n",
    "d = {\"A+\":4.5, \"A0\":4.0, \n",
    "     \"B+\": 3.5, \"B0\": 3.0, \n",
    "     \"C+\": 2.5, \"C0\": 2.0, \n",
    "     \"D+\": 1.5, \"D0\": 1.0, \n",
    "     \"F\": 0.0}\n",
    "s = 0\n",
    "t = 0\n",
    "for i in range(20):\n",
    "    data = sys.stdin.readline().split()\n",
    "    if data[2] != 'P':\n",
    "        t += float(data[1])\n",
    "        s += float(data[1])*d[data[2]]\n",
    "g = s/t\n",
    "print(f'{g:.6f}')"
   ]
  },
  {
   "cell_type": "code",
   "execution_count": null,
   "metadata": {},
   "outputs": [],
   "source": [
    "\n",
    "\n",
    "\n",
    "def fib(n):\n",
    "    d = {\n",
    "        1: 1,\n",
    "        2: 1\n",
    "    }\n",
    "    count = 0\n",
    "    for i in range(3, n+1):\n",
    "        count = count+1\n",
    "        d[i] = d[-1]+d[i-2]\n",
    "    return d[n], count\n",
    "\n",
    "print(fib(int(input())))\n"
   ]
  },
  {
   "cell_type": "code",
   "execution_count": null,
   "metadata": {},
   "outputs": [],
   "source": [
    "def memo(f):\n",
    "    cache = {}\n",
    "\n",
    "    def helper(a, b, c):\n",
    "        if (a, b, c,) not in cache:\n",
    "            cache[(a, b, c)] = f(a, b, c)\n",
    "        return cache[(a, b, c)]\n",
    "    return helper\n",
    "\n",
    "\n",
    "def w(a, b, c):\n",
    "    if a <= 0 or b <= 0 or c <= 0:\n",
    "        return 1\n",
    "    if a > 20 or b > 20 or c > 20:\n",
    "        return w(20, 20, 20)\n",
    "    if a < b and b < c:\n",
    "        return w(a, b, c-1) + w(a, b-1, c-1) - w(a, b-1, c)\n",
    "    return w(a-1, b, c) + w(a-1, b-1, c) + w(a-1, b, c-1) - w(a-1, b-1, c-1)\n",
    "w(15, 15, 15)\n"
   ]
  },
  {
   "cell_type": "code",
   "execution_count": 5,
   "metadata": {},
   "outputs": [
    {
     "data": {
      "text/plain": [
       "15"
      ]
     },
     "execution_count": 5,
     "metadata": {},
     "output_type": "execute_result"
    }
   ],
   "source": [
    "s=int(input())\n",
    "l=list(str(s))\n",
    "l.sort(reverse=True)\n",
    "print(*l, sep=\"\\n\")"
   ]
  }
 ],
 "metadata": {
  "kernelspec": {
   "display_name": "Python 3",
   "language": "python",
   "name": "python3"
  },
  "language_info": {
   "codemirror_mode": {
    "name": "ipython",
    "version": 3
   },
   "file_extension": ".py",
   "mimetype": "text/x-python",
   "name": "python",
   "nbconvert_exporter": "python",
   "pygments_lexer": "ipython3",
   "version": "3.10.4"
  },
  "orig_nbformat": 4
 },
 "nbformat": 4,
 "nbformat_minor": 2
}
